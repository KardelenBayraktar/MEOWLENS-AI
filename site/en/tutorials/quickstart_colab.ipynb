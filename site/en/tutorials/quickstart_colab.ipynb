{
  "cells": [
    {
      "source": [
        "!pip install tensorflow==2.12.0\n",
        "!pip install keras==2.12.0\n",
        "!pip install opencv-python\n",
        "!pip install Pillow"
      ],
      "cell_type": "code",
      "metadata": {
        "id": "Umie5Wudfltw"
      },
      "execution_count": null,
      "outputs": []
    },
    {
      "source": [
        "!unzip images.zip"
      ],
      "cell_type": "code",
      "metadata": {
        "id": "e_AgvbGzfvXV"
      },
      "execution_count": null,
      "outputs": []
    },
    {
      "source": [
        "import pandas as pd\n",
        "df = pd.read_csv('cats.csv')"
      ],
      "cell_type": "code",
      "metadata": {
        "id": "HDjCy5egfxO1"
      },
      "execution_count": null,
      "outputs": []
    }
  ],
  "metadata": {
    "colab": {
      "name": "quickstart_colab.ipynb",
      "provenance": []
    },
    "kernelspec": {
      "display_name": "Python 3",
      "name": "python3"
    }
  },
  "nbformat": 4,
  "nbformat_minor": 0
}